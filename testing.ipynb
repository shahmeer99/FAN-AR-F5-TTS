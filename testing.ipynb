{
 "cells": [
  {
   "cell_type": "code",
   "execution_count": 1,
   "metadata": {},
   "outputs": [],
   "source": [
    "import jieba"
   ]
  },
  {
   "cell_type": "code",
   "execution_count": 2,
   "metadata": {},
   "outputs": [],
   "source": [
    "def convert_char_to_pinyin(text_list, polyphone=True):\n",
    "    final_text_list = []\n",
    "    custom_trans = str.maketrans(\n",
    "        {\";\": \",\", \"“\": '\"', \"”\": '\"', \"‘\": \"'\", \"’\": \"'\"}\n",
    "    )  # add custom trans here, to address oov\n",
    "\n",
    "    def is_chinese(c):\n",
    "        return (\n",
    "            \"\\u3100\" <= c <= \"\\u9fff\"  # common chinese characters\n",
    "        )\n",
    "\n",
    "    for text in text_list:\n",
    "        char_list = []\n",
    "        text = text.translate(custom_trans)\n",
    "        for seg in jieba.cut(text):\n",
    "            seg_byte_len = len(bytes(seg, \"UTF-8\"))\n",
    "            if seg_byte_len == len(seg):  # if pure alphabets and symbols\n",
    "                if char_list and seg_byte_len > 1 and char_list[-1] not in \" :'\\\"\":\n",
    "                    char_list.append(\" \")\n",
    "                char_list.extend(seg)\n",
    "            elif polyphone and seg_byte_len == 3 * len(seg):  # if pure east asian characters\n",
    "                seg_ = lazy_pinyin(seg, style=Style.TONE3, tone_sandhi=True)\n",
    "                for i, c in enumerate(seg):\n",
    "                    if is_chinese(c):\n",
    "                        char_list.append(\" \")\n",
    "                    char_list.append(seg_[i])\n",
    "            else:  # if mixed characters, alphabets and symbols\n",
    "                for c in seg:\n",
    "                    if ord(c) < 256:\n",
    "                        char_list.extend(c)\n",
    "                    elif is_chinese(c):\n",
    "                        char_list.append(\" \")\n",
    "                        char_list.extend(lazy_pinyin(c, style=Style.TONE3, tone_sandhi=True))\n",
    "                    else:\n",
    "                        char_list.append(c)\n",
    "        final_text_list.append(char_list)\n",
    "\n",
    "    return final_text_list"
   ]
  },
  {
   "cell_type": "code",
   "execution_count": 4,
   "metadata": {},
   "outputs": [
    {
     "data": {
      "text/plain": [
       "[['م', 'ر', 'ح', 'ب', 'ا', 'ً', ' ', 'ي', 'ا', ' ', 'ع', 'ا', 'ل', 'م', '!']]"
      ]
     },
     "execution_count": 4,
     "metadata": {},
     "output_type": "execute_result"
    }
   ],
   "source": [
    "convert_char_to_pinyin([\"مرحباً يا عالم!\"])"
   ]
  }
 ],
 "metadata": {
  "kernelspec": {
   "display_name": "f5-tts",
   "language": "python",
   "name": "python3"
  },
  "language_info": {
   "codemirror_mode": {
    "name": "ipython",
    "version": 3
   },
   "file_extension": ".py",
   "mimetype": "text/x-python",
   "name": "python",
   "nbconvert_exporter": "python",
   "pygments_lexer": "ipython3",
   "version": "3.10.15"
  }
 },
 "nbformat": 4,
 "nbformat_minor": 2
}
